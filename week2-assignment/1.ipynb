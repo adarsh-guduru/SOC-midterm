{
 "cells": [
  {
   "cell_type": "code",
   "execution_count": 1,
   "id": "80acb735",
   "metadata": {
    "vscode": {
     "languageId": "plaintext"
    }
   },
   "outputs": [],
   "source": [
    "import torch\n",
    "import torch.nn as nn\n",
    "import torch.optim as optim\n",
    "import torchvision\n",
    "import torchvision.transforms as transforms\n",
    "from torch.utils.data import DataLoader\n",
    "import matplotlib.pyplot as plt \n",
    "import numpy as np \n",
    "from sklearn.metrics import confusion_matrix\n",
    "import torch.nn.functional as F\n",
    "#import seaborn as sns"
   ]
  },
  {
   "cell_type": "code",
   "execution_count": 2,
   "id": "96604e7a",
   "metadata": {
    "vscode": {
     "languageId": "plaintext"
    }
   },
   "outputs": [],
   "source": [
    "transform = transforms.Compose([ transforms.ToTensor(), transforms.Normalize((0.5,), (0.5,))])\n",
    "\n",
    "train_dataset = torchvision.datasets.MNIST(root='./data', train=True, download=True, transform=transform)\n",
    "test_dataset = torchvision.datasets.MNIST(root='./data', train=False, download=True,  transform=transform)\n",
    "\n",
    "train_loader = DataLoader(train_dataset, batch_size=64, shuffle=True)\n",
    "test_loader = DataLoader(test_dataset, batch_size=64, shuffle=False)"
   ]
  },
  {
   "cell_type": "code",
   "execution_count": 3,
   "id": "6dafaf55",
   "metadata": {
    "vscode": {
     "languageId": "plaintext"
    }
   },
   "outputs": [],
   "source": [
    "class CNN(nn.Module):\n",
    "    def __init__(self):\n",
    "        super(CNN, self).__init__()\n",
    "        self.conv1 = nn.Conv2d(1, 6, 5)\n",
    "        self.conv2 = nn.Conv2d(6, 16, 5)\n",
    "\n",
    "        self.fc1 = nn.Linear(16*4*4, 120)\n",
    "        self.fc2 = nn.Linear(120, 84)\n",
    "        self.fc3 = nn.Linear(84, 10)\n",
    "\n",
    "        self.relu = nn.ReLU()\n",
    "        self.dropout = nn.Dropout(0.25)\n",
    "\n",
    "    def forward(self, x):\n",
    "        # Conv1: (N, 1, 28, 28) -> (N, 6, 24, 24) after 5x5 conv\n",
    "        x = self.relu(self.conv1(x))\n",
    "        # Max pooling: (N, 6, 24, 24) -> (N, 6, 12, 12)\n",
    "        x = F.max_pool2d(x, (2, 2))\n",
    "        # Conv2: (N, 6, 12, 12) -> (N, 16, 8, 8) after 5x5 conv\n",
    "        x = self.relu(self.conv2(x))\n",
    "        # Max pooling: (N, 16, 8, 8) -> (N, 16, 4, 4)\n",
    "        x = F.max_pool2d(x, 2)\n",
    "        # Flatten: (N, 16, 4, 4) -> (N, 256)\n",
    "        x = torch.flatten(x, 1)\n",
    "        # FC1: (N, 256) -> (N, 120)\n",
    "        x = self.relu(self.fc1(x))\n",
    "        x = self.dropout(x)\n",
    "        # FC2: (N, 120) -> (N, 84)\n",
    "        x = self.relu(self.fc2(x))\n",
    "        x = self.dropout(x)\n",
    "        # FC3: (N, 84) -> (N, 10)\n",
    "        x = self.fc3(x)\n",
    "        return x\n",
    "\n",
    "# cnn_model = CNN()\n",
    "# criterion = nn.CrossEntropyLoss()\n",
    "# optimizer = torch.optim.Adam(cnn_model.parameters(), lr=0.001)\n",
    "        "
   ]
  },
  {
   "cell_type": "code",
   "execution_count": 4,
   "id": "f352a245-0a2d-47d1-8694-9cc1612a58b1",
   "metadata": {},
   "outputs": [],
   "source": [
    "class SimpleNN(nn.Module):\n",
    "    def __init__(self):\n",
    "        super(SimpleNN, self).__init__()\n",
    "        self.fc1 = nn.Linear(28 * 28, 128)\n",
    "        self.fc2 = nn.Linear(128, 64)\n",
    "        self.fc3 = nn.Linear(64, 10)\n",
    "        self.relu = nn.ReLU()\n",
    "        self.dropout = nn.Dropout(0.25)\n",
    "\n",
    "    def forward(self, x):\n",
    "        x = x.view(-1, 28 * 28)\n",
    "        x = self.relu(self.fc1(x))\n",
    "        x = self.dropout(x)\n",
    "        x = self.relu(self.fc2(x))\n",
    "        x = self.dropout(x)\n",
    "        x = self.fc3(x)\n",
    "        return x"
   ]
  },
  {
   "cell_type": "code",
   "execution_count": 5,
   "id": "eb1722d5-c753-4fda-afd8-ec0a25a83cae",
   "metadata": {},
   "outputs": [],
   "source": [
    "def train_model(model, train_loader, criterion, optimizer, num_epochs=5):\n",
    "    model.train()\n",
    "    train_losses = []\n",
    "    train_accuracies = []\n",
    "\n",
    "    for epoch in range(num_epochs):\n",
    "        running_loss = 0.0\n",
    "        correct = 0\n",
    "        total = 0\n",
    "\n",
    "        for images, labels in train_loader:\n",
    "            images, labels = images.to(device), labels.to(device)\n",
    "            \n",
    "            # Zero gradients\n",
    "            optimizer.zero_grad()\n",
    "            \n",
    "            # Forward pass\n",
    "            outputs = model(images)\n",
    "            loss = criterion(outputs, labels)\n",
    "            \n",
    "            # Backward pass and optimize\n",
    "            loss.backward()\n",
    "            optimizer.step()\n",
    "            \n",
    "            # Track loss and accuracy\n",
    "            running_loss += loss.item()\n",
    "            _, predicted = torch.max(outputs.data, 1)\n",
    "            total += labels.size(0)\n",
    "            correct += (predicted == labels).sum().item()\n",
    "        \n",
    "        epoch_loss = running_loss / len(train_loader)\n",
    "        epoch_acc = 100 * correct / total\n",
    "        train_losses.append(epoch_loss)\n",
    "        train_accuracies.append(epoch_acc)\n",
    "        print(f'Epoch [{epoch+1}/{num_epochs}], Loss: {epoch_loss:.4f}, Accuracy: {epoch_acc:.2f}%')\n",
    "    \n",
    "    return train_losses, train_accuracies"
   ]
  },
  {
   "cell_type": "code",
   "execution_count": 6,
   "id": "df78055f-745a-4c38-95bc-417fbd4fee1f",
   "metadata": {},
   "outputs": [
    {
     "name": "stdout",
     "output_type": "stream",
     "text": [
      "Training CNN...\n",
      "Epoch [1/5], Loss: 0.3082, Accuracy: 90.37%\n",
      "Epoch [2/5], Loss: 0.0941, Accuracy: 97.27%\n",
      "Epoch [3/5], Loss: 0.0679, Accuracy: 97.95%\n",
      "Epoch [4/5], Loss: 0.0536, Accuracy: 98.46%\n",
      "Epoch [5/5], Loss: 0.0464, Accuracy: 98.64%\n",
      "\n",
      "Training Simple NN...\n",
      "Epoch [1/5], Loss: 0.5623, Accuracy: 82.40%\n",
      "Epoch [2/5], Loss: 0.3058, Accuracy: 90.89%\n",
      "Epoch [3/5], Loss: 0.2569, Accuracy: 92.27%\n",
      "Epoch [4/5], Loss: 0.2282, Accuracy: 93.14%\n",
      "Epoch [5/5], Loss: 0.2159, Accuracy: 93.42%\n"
     ]
    }
   ],
   "source": [
    "device = torch.device('cuda' if torch.cuda.is_available() else 'cpu')\n",
    "\n",
    "# CNN model\n",
    "cnn_model = CNN().to(device)\n",
    "criterion = nn.CrossEntropyLoss()\n",
    "optimizer = optim.Adam(cnn_model.parameters(), lr=0.001)\n",
    "\n",
    "# Simple NN model\n",
    "simple_nn_model = SimpleNN().to(device)\n",
    "optimizer_nn = optim.Adam(simple_nn_model.parameters(), lr=0.001)\n",
    "\n",
    "# Train CNN\n",
    "print(\"Training CNN...\")\n",
    "cnn_losses, cnn_accuracies = train_model(cnn_model, train_loader, criterion, optimizer, num_epochs=5)\n",
    "\n",
    "# Train Simple NN\n",
    "print(\"\\nTraining Simple NN...\")\n",
    "nn_losses, nn_accuracies = train_model(simple_nn_model, train_loader, criterion, optimizer_nn, num_epochs=5)"
   ]
  },
  {
   "cell_type": "code",
   "execution_count": null,
   "id": "5bfa83a2-f26d-41a3-b3cc-78d08d24c714",
   "metadata": {},
   "outputs": [],
   "source": []
  },
  {
   "cell_type": "code",
   "execution_count": null,
   "id": "25c37ccd-60c5-4d7d-8a1d-2ecc63246891",
   "metadata": {},
   "outputs": [],
   "source": []
  }
 ],
 "metadata": {
  "kernelspec": {
   "display_name": "Python 3 (ipykernel)",
   "language": "python",
   "name": "python3"
  },
  "language_info": {
   "codemirror_mode": {
    "name": "ipython",
    "version": 3
   },
   "file_extension": ".py",
   "mimetype": "text/x-python",
   "name": "python",
   "nbconvert_exporter": "python",
   "pygments_lexer": "ipython3",
   "version": "3.10.12"
  }
 },
 "nbformat": 4,
 "nbformat_minor": 5
}
